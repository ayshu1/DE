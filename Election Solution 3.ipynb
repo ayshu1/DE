{
 "cells": [
  {
   "cell_type": "code",
   "execution_count": 1,
   "id": "d59b041c",
   "metadata": {},
   "outputs": [],
   "source": [
    "import pandas as pd"
   ]
  },
  {
   "cell_type": "code",
   "execution_count": 2,
   "id": "c18e2e71",
   "metadata": {},
   "outputs": [],
   "source": [
    "df=pd.read_csv('Desktop\\KAR.csv')"
   ]
  },
  {
   "cell_type": "code",
   "execution_count": 3,
   "id": "8200cf04",
   "metadata": {},
   "outputs": [
    {
     "data": {
      "text/plain": [
       "370"
      ]
     },
     "execution_count": 3,
     "metadata": {},
     "output_type": "execute_result"
    }
   ],
   "source": [
    "len(df. index)"
   ]
  },
  {
   "cell_type": "code",
   "execution_count": 4,
   "id": "b4f303ef",
   "metadata": {},
   "outputs": [],
   "source": [
    "# highest Vote Candidates\n",
    "highest_vote_candidates = df.groupby('Year')['Total Vote'].idxmax().apply(lambda x: df.loc[x, 'Canditate'])\n"
   ]
  },
  {
   "cell_type": "code",
   "execution_count": 5,
   "id": "c3a50fba",
   "metadata": {},
   "outputs": [
    {
     "name": "stdout",
     "output_type": "stream",
     "text": [
      "Year\n",
      "2004     Prakash M P\n",
      "2008    M Krishnappa\n",
      "2013    M Krishnappa\n",
      "2018    M Krishnappa\n",
      "Name: Total Vote, dtype: object\n"
     ]
    }
   ],
   "source": [
    "print(highest_vote_candidates )"
   ]
  },
  {
   "cell_type": "code",
   "execution_count": 6,
   "id": "b2d24b15",
   "metadata": {},
   "outputs": [],
   "source": [
    "# group the data by year and find the candidate with the highest votes\n",
    "top_candidates = df.groupby(['Year']).apply(lambda x: x.loc[x['Total Vote'].idxmax()])\n",
    "\n",
    "# select the desired columns\n",
    "top_candidates = top_candidates[['Year', 'Constituency', 'Party FullName', 'Canditate']]"
   ]
  },
  {
   "cell_type": "code",
   "execution_count": 7,
   "id": "3066215a",
   "metadata": {},
   "outputs": [
    {
     "name": "stdout",
     "output_type": "stream",
     "text": [
      "      Year Constituency          Party FullName     Canditate\n",
      "Year                                                         \n",
      "2004  2004    Hadagalli    Janata Dal (secular)   Prakash M P\n",
      "2008  2008    Bangalore  Bharatiya Janata Party  M Krishnappa\n",
      "2013  2013    Bangalore  Bharatiya Janata Party  M Krishnappa\n",
      "2018  2018    Bangalore  Bharatiya Janata Party  M Krishnappa\n"
     ]
    }
   ],
   "source": [
    "print(top_candidates)"
   ]
  },
  {
   "cell_type": "code",
   "execution_count": 8,
   "id": "24e15d9c",
   "metadata": {},
   "outputs": [
    {
     "name": "stdout",
     "output_type": "stream",
     "text": [
      "                         Canditate  Year        Constituency      District  \\\n",
      "0                      Halappa V B  2004           Hadagalli   vijayanagar   \n",
      "1                Akaashi Basavaraj  2004           Gurmitkal        Yadgir   \n",
      "2                   Narayana Das D  2004       Harapanahalli   vijayanagar   \n",
      "3                     Siraj Sheikh  2004             kudligi   vijayanagar   \n",
      "4      Shivashekarappagouda Sirwal  2004            shahapur        yadgir   \n",
      "5             Raja Venkatappa Naik  2004            shorapur        yadgir   \n",
      "6                Dr A B Malakraddy  2004              yadgir        yadgir   \n",
      "7             P T Parameswara Naik  2008           Hadagalli   vijayanagar   \n",
      "8                      Sadananda M  2008           Bangalore     Bangalore   \n",
      "9                L B P Bheema Naik  2008  Hagaribommanahalli   vijayanagar   \n",
      "10                     M P Prakash  2008       Harapanahalli   vijayanagar   \n",
      "11                     S Venkatesh  2008             kudligi   vijayanagar   \n",
      "12    Shivshekharappagouda Shirwal  2008            shahapur        yadgir   \n",
      "13            Raja Venkatappa Naik  2008            shorapur        yadgir   \n",
      "14                    H R Gaviappa  2008        vijayanagara  vijayanagara   \n",
      "15    Dr Veerabaswanthreddy Mudnal  2008              yadgir        yadgir   \n",
      "16                   B Chandranaik  2013           Hadagalli   vijayanagar   \n",
      "17              R Prabhakara Reddy  2013           Bangalore     Bangalore   \n",
      "18          Nagana Gouda Kandakura  2013           Gurmitkal        Yadgir   \n",
      "19                 K Nemaraja Naik  2013  Hagaribommanahalli   vijayanagar   \n",
      "20               G Karunakarareddy  2013       Harapanahalli   vijayanagar   \n",
      "21                    S Venkatesha  2013             kudligi   vijayanagar   \n",
      "22  Sharanabasappagouda Darshanpur  2013            shahapur        yadgir   \n",
      "23      Narasimhanayak (rajugouda)  2013            shorapur        yadgir   \n",
      "24                   H Abdul Wahab  2013        vijayanagara  vijayanagara   \n",
      "25              Veer Baswant Reddy  2013              yadgir        yadgir   \n",
      "26                    Odo Gangappa  2018           Hadagalli   vijayanagar   \n",
      "27                      R K Ramesh  2018           Bangalore     Bangalore   \n",
      "28             Baburao Chinchansur  2018           Gurmitkal        Yadgir   \n",
      "29                 K Nemiraja Naik  2018  Hagaribommanahalli   vijayanagar   \n",
      "30                    M P Ravindra  2018       Harapanahalli   vijayanagar   \n",
      "31                    N T Bommanna  2018             kudligi   vijayanagar   \n",
      "32               Guru Patil Sirwal  2018            shahapur        yadgir   \n",
      "33            Raja Venkatappa Naik  2018            shorapur        yadgir   \n",
      "34                   H R Gaviyappa  2018        vijayanagara  vijayanagara   \n",
      "35             Dr A B Maalakaraddy  2018              yadgir        yadgir   \n",
      "\n",
      "    Total Vote  \n",
      "0        28077  \n",
      "1        18459  \n",
      "2        30164  \n",
      "3        41796  \n",
      "4        38080  \n",
      "5        40733  \n",
      "6        25788  \n",
      "7        37474  \n",
      "8        36979  \n",
      "9        23865  \n",
      "10       44017  \n",
      "11       45686  \n",
      "12       36207  \n",
      "13       55961  \n",
      "14       25921  \n",
      "15       31812  \n",
      "16       18526  \n",
      "17       72045  \n",
      "18       34401  \n",
      "19       51847  \n",
      "20       48548  \n",
      "21       46674  \n",
      "22       49128  \n",
      "23       60958  \n",
      "24       39358  \n",
      "25       31330  \n",
      "26       44919  \n",
      "27      122068  \n",
      "28       55147  \n",
      "29       71105  \n",
      "30       57956  \n",
      "31       39272  \n",
      "32       47668  \n",
      "33       81858  \n",
      "34       74986  \n",
      "35       49346  \n"
     ]
    }
   ],
   "source": [
    "#runnerup candidate:\n",
    "runner_ups = df.groupby(['Year', 'Constituency']).apply(lambda x: x.nlargest(2, 'Total Vote')).reset_index(drop=True)\n",
    "runner_ups = runner_ups.groupby(['Year', 'Constituency']).last().reset_index()[[ 'Canditate','Year', 'Constituency', 'District','Total Vote']]\n",
    "print(runner_ups)"
   ]
  },
  {
   "cell_type": "code",
   "execution_count": 9,
   "id": "1c779ebd",
   "metadata": {},
   "outputs": [
    {
     "data": {
      "text/plain": [
       "S N                 int64\n",
       "Canditate          object\n",
       "Gender             object\n",
       "Age                object\n",
       "Caste              object\n",
       "Party Name         object\n",
       "Party FullName     object\n",
       "Symbol             object\n",
       "Total Vote          int64\n",
       "Percentage         object\n",
       "Year                int64\n",
       "Constituency       object\n",
       "District           object\n",
       "Unnamed: 13       float64\n",
       "dtype: object"
      ]
     },
     "execution_count": 9,
     "metadata": {},
     "output_type": "execute_result"
    }
   ],
   "source": [
    "df.dtypes"
   ]
  },
  {
   "cell_type": "code",
   "execution_count": 13,
   "id": "63724af7",
   "metadata": {},
   "outputs": [
    {
     "ename": "KeyError",
     "evalue": "\"['Candidate', 'Party'] not in index\"",
     "output_type": "error",
     "traceback": [
      "\u001b[1;31m---------------------------------------------------------------------------\u001b[0m",
      "\u001b[1;31mKeyError\u001b[0m                                  Traceback (most recent call last)",
      "Input \u001b[1;32mIn [13]\u001b[0m, in \u001b[0;36m<cell line: 9>\u001b[1;34m()\u001b[0m\n\u001b[0;32m      6\u001b[0m least_margin_candidate \u001b[38;5;241m=\u001b[39m df[df[\u001b[38;5;124m'\u001b[39m\u001b[38;5;124mVote Difference\u001b[39m\u001b[38;5;124m'\u001b[39m] \u001b[38;5;241m==\u001b[39m df[\u001b[38;5;124m'\u001b[39m\u001b[38;5;124mVote Difference\u001b[39m\u001b[38;5;124m'\u001b[39m]\u001b[38;5;241m.\u001b[39mmin()]\n\u001b[0;32m      8\u001b[0m \u001b[38;5;66;03m#  Display the Candidate, Constituency, and Party\u001b[39;00m\n\u001b[1;32m----> 9\u001b[0m least_margin_candidate_info \u001b[38;5;241m=\u001b[39m \u001b[43mleast_margin_candidate\u001b[49m\u001b[43m[\u001b[49m\u001b[43m[\u001b[49m\u001b[38;5;124;43m'\u001b[39;49m\u001b[38;5;124;43mCandidate\u001b[39;49m\u001b[38;5;124;43m'\u001b[39;49m\u001b[43m,\u001b[49m\u001b[43m \u001b[49m\u001b[38;5;124;43m'\u001b[39;49m\u001b[38;5;124;43mConstituency\u001b[39;49m\u001b[38;5;124;43m'\u001b[39;49m\u001b[43m,\u001b[49m\u001b[43m \u001b[49m\u001b[38;5;124;43m'\u001b[39;49m\u001b[38;5;124;43mParty\u001b[39;49m\u001b[38;5;124;43m'\u001b[39;49m\u001b[43m]\u001b[49m\u001b[43m]\u001b[49m\n",
      "File \u001b[1;32m~\\anaconda3\\lib\\site-packages\\pandas\\core\\frame.py:3511\u001b[0m, in \u001b[0;36mDataFrame.__getitem__\u001b[1;34m(self, key)\u001b[0m\n\u001b[0;32m   3509\u001b[0m     \u001b[38;5;28;01mif\u001b[39;00m is_iterator(key):\n\u001b[0;32m   3510\u001b[0m         key \u001b[38;5;241m=\u001b[39m \u001b[38;5;28mlist\u001b[39m(key)\n\u001b[1;32m-> 3511\u001b[0m     indexer \u001b[38;5;241m=\u001b[39m \u001b[38;5;28;43mself\u001b[39;49m\u001b[38;5;241;43m.\u001b[39;49m\u001b[43mcolumns\u001b[49m\u001b[38;5;241;43m.\u001b[39;49m\u001b[43m_get_indexer_strict\u001b[49m\u001b[43m(\u001b[49m\u001b[43mkey\u001b[49m\u001b[43m,\u001b[49m\u001b[43m \u001b[49m\u001b[38;5;124;43m\"\u001b[39;49m\u001b[38;5;124;43mcolumns\u001b[39;49m\u001b[38;5;124;43m\"\u001b[39;49m\u001b[43m)\u001b[49m[\u001b[38;5;241m1\u001b[39m]\n\u001b[0;32m   3513\u001b[0m \u001b[38;5;66;03m# take() does not accept boolean indexers\u001b[39;00m\n\u001b[0;32m   3514\u001b[0m \u001b[38;5;28;01mif\u001b[39;00m \u001b[38;5;28mgetattr\u001b[39m(indexer, \u001b[38;5;124m\"\u001b[39m\u001b[38;5;124mdtype\u001b[39m\u001b[38;5;124m\"\u001b[39m, \u001b[38;5;28;01mNone\u001b[39;00m) \u001b[38;5;241m==\u001b[39m \u001b[38;5;28mbool\u001b[39m:\n",
      "File \u001b[1;32m~\\anaconda3\\lib\\site-packages\\pandas\\core\\indexes\\base.py:5782\u001b[0m, in \u001b[0;36mIndex._get_indexer_strict\u001b[1;34m(self, key, axis_name)\u001b[0m\n\u001b[0;32m   5779\u001b[0m \u001b[38;5;28;01melse\u001b[39;00m:\n\u001b[0;32m   5780\u001b[0m     keyarr, indexer, new_indexer \u001b[38;5;241m=\u001b[39m \u001b[38;5;28mself\u001b[39m\u001b[38;5;241m.\u001b[39m_reindex_non_unique(keyarr)\n\u001b[1;32m-> 5782\u001b[0m \u001b[38;5;28;43mself\u001b[39;49m\u001b[38;5;241;43m.\u001b[39;49m\u001b[43m_raise_if_missing\u001b[49m\u001b[43m(\u001b[49m\u001b[43mkeyarr\u001b[49m\u001b[43m,\u001b[49m\u001b[43m \u001b[49m\u001b[43mindexer\u001b[49m\u001b[43m,\u001b[49m\u001b[43m \u001b[49m\u001b[43maxis_name\u001b[49m\u001b[43m)\u001b[49m\n\u001b[0;32m   5784\u001b[0m keyarr \u001b[38;5;241m=\u001b[39m \u001b[38;5;28mself\u001b[39m\u001b[38;5;241m.\u001b[39mtake(indexer)\n\u001b[0;32m   5785\u001b[0m \u001b[38;5;28;01mif\u001b[39;00m \u001b[38;5;28misinstance\u001b[39m(key, Index):\n\u001b[0;32m   5786\u001b[0m     \u001b[38;5;66;03m# GH 42790 - Preserve name from an Index\u001b[39;00m\n",
      "File \u001b[1;32m~\\anaconda3\\lib\\site-packages\\pandas\\core\\indexes\\base.py:5845\u001b[0m, in \u001b[0;36mIndex._raise_if_missing\u001b[1;34m(self, key, indexer, axis_name)\u001b[0m\n\u001b[0;32m   5842\u001b[0m     \u001b[38;5;28;01mraise\u001b[39;00m \u001b[38;5;167;01mKeyError\u001b[39;00m(\u001b[38;5;124mf\u001b[39m\u001b[38;5;124m\"\u001b[39m\u001b[38;5;124mNone of [\u001b[39m\u001b[38;5;132;01m{\u001b[39;00mkey\u001b[38;5;132;01m}\u001b[39;00m\u001b[38;5;124m] are in the [\u001b[39m\u001b[38;5;132;01m{\u001b[39;00maxis_name\u001b[38;5;132;01m}\u001b[39;00m\u001b[38;5;124m]\u001b[39m\u001b[38;5;124m\"\u001b[39m)\n\u001b[0;32m   5844\u001b[0m not_found \u001b[38;5;241m=\u001b[39m \u001b[38;5;28mlist\u001b[39m(ensure_index(key)[missing_mask\u001b[38;5;241m.\u001b[39mnonzero()[\u001b[38;5;241m0\u001b[39m]]\u001b[38;5;241m.\u001b[39munique())\n\u001b[1;32m-> 5845\u001b[0m \u001b[38;5;28;01mraise\u001b[39;00m \u001b[38;5;167;01mKeyError\u001b[39;00m(\u001b[38;5;124mf\u001b[39m\u001b[38;5;124m\"\u001b[39m\u001b[38;5;132;01m{\u001b[39;00mnot_found\u001b[38;5;132;01m}\u001b[39;00m\u001b[38;5;124m not in index\u001b[39m\u001b[38;5;124m\"\u001b[39m)\n",
      "\u001b[1;31mKeyError\u001b[0m: \"['Candidate', 'Party'] not in index\""
     ]
    }
   ],
   "source": [
    "#  Convert 'Total Vote' column to numeric\n",
    "df['Total Vote'] = pd.to_numeric(df['Total Vote'], errors='coerce')\n",
    "\n",
    "#  Find the Candidate with the Least Margin of Votes\n",
    "df['Vote Difference'] = df.groupby('Constituency')['Total Vote'].transform(lambda x: x.max() - x)\n",
    "least_margin_candidate = df[df['Vote Difference'] == df['Vote Difference'].min()]\n",
    "\n",
    "#  Display the Candidate, Constituency, and Party\n",
    "least_margin_candidate_info = least_margin_candidate[['Candidate', 'Constituency', 'Party']]\n",
    "\n",
    "#  Export the result to an Excel file\n",
    "#least_margin_candidate_info.to_csv('least_margin_candidate.csv', index=False)"
   ]
  },
  {
   "cell_type": "code",
   "execution_count": null,
   "id": "db0f5d3f",
   "metadata": {},
   "outputs": [],
   "source": []
  }
 ],
 "metadata": {
  "kernelspec": {
   "display_name": "Python 3 (ipykernel)",
   "language": "python",
   "name": "python3"
  },
  "language_info": {
   "codemirror_mode": {
    "name": "ipython",
    "version": 3
   },
   "file_extension": ".py",
   "mimetype": "text/x-python",
   "name": "python",
   "nbconvert_exporter": "python",
   "pygments_lexer": "ipython3",
   "version": "3.9.12"
  }
 },
 "nbformat": 4,
 "nbformat_minor": 5
}
